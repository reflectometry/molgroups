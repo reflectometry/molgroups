{
 "cells": [
  {
   "cell_type": "code",
   "execution_count": 1,
   "id": "accad99f",
   "metadata": {},
   "outputs": [],
   "source": [
    "import rs\n",
    "import os\n",
    "#!pwd"
   ]
  },
  {
   "cell_type": "markdown",
   "id": "ac628656",
   "metadata": {},
   "source": [
    "## Define result directory and set up fit source\n",
    "The results directory is the save directory for the refl1d/bumps/garefl fit, which is typically one directory level up from the fit setup. If a garefl fit does not use MCMC, give the setup directory.\n",
    "The runfile is either the Python or C++ setup file. The refl1d Python runfile for a garefl fit is expected to be run.py."
   ]
  },
  {
   "cell_type": "code",
   "execution_count": 2,
   "id": "f2b91289",
   "metadata": {},
   "outputs": [],
   "source": [
    "# Bumps Test\n",
    "# setupdir = '/Users/frank/Documents/programming/molgroups/PlottingAndAnalysis'\n",
    "# mcmcstor = setupdir + '/T1'\n",
    "# runfile = 'run-ff'\n",
    "# fitsource = 'bumps'\n",
    "\n",
    "# Refl1D Test\n",
    "setupdir = 'G:\\\\Shared drives\\\\molgroups\\\\ssBLM flayer'\n",
    "mcmcstor = setupdir + '\\\\test3'\n",
    "runfile = 'ssblm_tiox_both'\n",
    "fitsource = 'refl1d'\n",
    "\n",
    "\n",
    "# Garefl test\n",
    "# setupdir = '/Users/frank/Desktop/garefltest'\n",
    "# mcmcstor = setupdir + '/MCMC_64000_500'\n",
    "# runfile = 'setup.cc'\n",
    "# fitsource = 'garefl'\n",
    "\n",
    "# Clean up previous results files\n",
    "# TODO: Come up with a scheme on how to handle result files (keep or delete)\n",
    "os.chdir(setupdir)\n",
    "if os.path.isfile(mcmcstor + '/sErr.dat'):\n",
    "    os.remove(mcmcstor + '/sErr.dat')\n",
    "if os.path.isfile(mcmcstor + '/isErr.dat'):\n",
    "    os.remove(mcmcstor + '/isErr.dat')\n",
    "if os.path.isfile(mcmcstor + '/StatDataPython.dat'):\n",
    "    os.remove(mcmcstor + '/StatDataPython.dat')\n",
    "\n",
    "fit = rs.CMolStat(fitsource=fitsource, spath=setupdir, mcmcpath=mcmcstor, runfile=runfile)"
   ]
  },
  {
   "cell_type": "markdown",
   "id": "5e6e26c0",
   "metadata": {},
   "source": [
    "## Load MCMC information bumps / refl1d files"
   ]
  },
  {
   "cell_type": "code",
   "execution_count": 3,
   "id": "74d216f8",
   "metadata": {
    "scrolled": true
   },
   "outputs": [
    {
     "output_type": "stream",
     "name": "stdout",
     "text": [
      "0.1280062198638916\n",
      "Analysis of current MC simulation ...\n",
      "Number of iterations: 184\n",
      "          background_ch061  [|+         ]  [    -1e-07,     1e-05]  [ 3.295e-07(0.000),  4.085e-07(0.000),  5.102e-07(0.000)] (- 7.901e-08, + 1.017e-07)\n",
      "           intensity_ch061  [     |+    ]  [       0.9,      1.05]  [     0.981(0.000),     0.9866(0.000),      0.992(0.003)] (-  0.005654, +  0.005373)\n",
      "   sample_broadening_ch061  [  |+       ]  [    -0.005,      0.02]  [ 0.0002246(0.000),   0.001714(0.001),   0.003367(0.001)] (-  0.001489, +  0.001653)\n",
      "        theta_offset_ch061  [  |-|      ]  [     -0.02,      0.02]  [     -0.01(0.000),  -0.007875(0.001),  -0.005981(0.001)] (-  0.002129, +  0.001894)\n",
      "            siox_interface  [ |-|       ]  [         2,         9]  [     2.765(0.000),      3.586(0.001),      4.097(0.000)] (-    0.8217, +     0.511)\n",
      "                  siox_rho  [ | -  |    ]  [       3.1,       5.1]  [     3.226(0.001),      3.728(0.010),       4.26(0.003)] (-    0.5019, +    0.5319)\n",
      "            siox_thickness  [|-|        ]  [         5,        40]  [     5.362(0.000),       7.34(0.000),       10.9(0.000)] (-     1.978, +     3.556)\n",
      "                  tiox_rho  [     +|    ]  [     1.163,     3.163]  [     2.246(0.000),      2.254(0.000),      2.264(0.000)] (-  0.007839, +   0.01056)\n",
      "                   d2o_rho  [     +     ]  [       5.3,       6.5]  [     5.853(0.000),      5.904(0.000),      5.945(0.000)] (-    0.0514, +   0.04093)\n",
      "       substrate_roughness  [  |+       ]  [         2,         9]  [     3.387(0.000),      3.969(0.000),      4.334(0.000)] (-    0.5818, +    0.3646)\n",
      "inner_acyl_chain_thickness  [       |+  ]  [         8,        16]  [     13.72(0.000),      14.17(0.000),      14.68(0.000)] (-     0.456, +    0.5029)\n",
      "outer_acyl_chain_thickness  [    |+     ]  [         8,        16]  [     11.19(0.000),      11.83(0.000),       12.3(0.001)] (-    0.6448, +    0.4688)\n",
      "     submembrane_thickness  [   +       ]  [         0,        50]  [     13.56(0.000),      13.82(0.000),      14.17(0.000)] (-    0.2565, +    0.3449)\n",
      "         bilayer_roughness  [    |+     ]  [         2,         9]  [      4.79(0.000),      5.181(0.002),      5.558(0.000)] (-    0.3905, +    0.3776)\n",
      "   volume_fraction_bilayer  [         + ]  [         0,         1]  [    0.9138(0.000),     0.9267(0.000),     0.9413(0.000)] (-   0.01293, +   0.01459)\n",
      "          background_ch060  [    +      ]  [    -1e-07,     1e-05]  [  3.91e-06(0.000),  4.015e-06(0.000),  4.211e-06(0.000)] (- 1.048e-07, + 1.966e-07)\n",
      "                   h2o_rho  [  +|       ]  [      -0.6,       0.6]  [   -0.3674(0.000),    -0.3353(0.000),    -0.2925(0.000)] (-   0.03213, +   0.04274)\n",
      "      total_tiox_thickness  [         + ]  [        50,       150]  [     135.1(0.000),      136.9(0.000),        138(0.000)] (-     1.798, +     1.046)\n",
      "Maximum deviation from average over last 5 iterations: 0.0127\n",
      "Confidence level: 0.6827\n"
     ]
    }
   ],
   "source": [
    "#fit.fnLoadStatData(sparse=0)\n",
    "#fit.fnLoadParameters()\n",
    "sparse = 0.002\n",
    "fit.fnAnalyzeStatFile(fConfidence=-1, sparse=sparse)"
   ]
  },
  {
   "cell_type": "code",
   "execution_count": 6,
   "id": "dd48e803",
   "metadata": {},
   "outputs": [
    {
     "output_type": "stream",
     "name": "stdout",
     "text": [
      "Failure to load StatDataPython.dat.\nRecreate statistical data from sErr.dat.\nFound sErr.dat\n\n0.05300116539001465\nProcessing parameter set 0.\n\n"
     ]
    },
    {
     "output_type": "error",
     "ename": "AttributeError",
     "evalue": "'ssBLM_quaternary' object has no attribute 'fnWriteConstant'",
     "traceback": [
      "\u001b[1;31m---------------------------------------------------------------------------\u001b[0m",
      "\u001b[1;31mFileNotFoundError\u001b[0m                         Traceback (most recent call last)",
      "\u001b[1;32mg:\\My Drive\\Software\\nr\\molgroups\\PlottingAndAnalysis\\rs.py\u001b[0m in \u001b[0;36mfnPullMolgroupLoader\u001b[1;34m(self, liMolgroupNames, sparse)\u001b[0m\n\u001b[0;32m   2444\u001b[0m         \u001b[1;32mtry\u001b[0m\u001b[1;33m:\u001b[0m\u001b[1;33m\u001b[0m\u001b[1;33m\u001b[0m\u001b[0m\n\u001b[1;32m-> 2445\u001b[1;33m             \u001b[0mself\u001b[0m\u001b[1;33m.\u001b[0m\u001b[0mdiStatResults\u001b[0m \u001b[1;33m=\u001b[0m \u001b[0mself\u001b[0m\u001b[1;33m.\u001b[0m\u001b[0mfnLoadObject\u001b[0m\u001b[1;33m(\u001b[0m\u001b[0mself\u001b[0m\u001b[1;33m.\u001b[0m\u001b[0mmcmcpath\u001b[0m\u001b[1;33m+\u001b[0m\u001b[1;34m'/StatDataPython.dat'\u001b[0m\u001b[1;33m)\u001b[0m\u001b[1;33m\u001b[0m\u001b[1;33m\u001b[0m\u001b[0m\n\u001b[0m\u001b[0;32m   2446\u001b[0m             \u001b[0mprint\u001b[0m\u001b[1;33m(\u001b[0m\u001b[1;34m'Loaded statistical data from StatDataPython.dat'\u001b[0m\u001b[1;33m)\u001b[0m\u001b[1;33m\u001b[0m\u001b[1;33m\u001b[0m\u001b[0m\n",
      "\u001b[1;32mg:\\My Drive\\Software\\nr\\molgroups\\PlottingAndAnalysis\\rs.py\u001b[0m in \u001b[0;36mfnLoadObject\u001b[1;34m(sFileName)\u001b[0m\n\u001b[0;32m   1869\u001b[0m         \u001b[1;32mimport\u001b[0m \u001b[0mpickle\u001b[0m\u001b[1;33m\u001b[0m\u001b[1;33m\u001b[0m\u001b[0m\n\u001b[1;32m-> 1870\u001b[1;33m         \u001b[0mFile\u001b[0m \u001b[1;33m=\u001b[0m \u001b[0mopen\u001b[0m\u001b[1;33m(\u001b[0m\u001b[0msFileName\u001b[0m\u001b[1;33m,\u001b[0m \u001b[1;34m\"rb\"\u001b[0m\u001b[1;33m)\u001b[0m\u001b[1;33m\u001b[0m\u001b[1;33m\u001b[0m\u001b[0m\n\u001b[0m\u001b[0;32m   1871\u001b[0m         \u001b[0mObject\u001b[0m \u001b[1;33m=\u001b[0m \u001b[0mpickle\u001b[0m\u001b[1;33m.\u001b[0m\u001b[0mload\u001b[0m\u001b[1;33m(\u001b[0m\u001b[0mFile\u001b[0m\u001b[1;33m)\u001b[0m\u001b[1;33m\u001b[0m\u001b[1;33m\u001b[0m\u001b[0m\n",
      "\u001b[1;31mFileNotFoundError\u001b[0m: [Errno 2] No such file or directory: 'G:\\\\Shared drives\\\\molgroups\\\\ssBLM flayer\\\\test3/StatDataPython.dat'",
      "\nDuring handling of the above exception, another exception occurred:\n",
      "\u001b[1;31mAttributeError\u001b[0m                            Traceback (most recent call last)",
      "\u001b[1;32m<ipython-input-6-42565db233ca>\u001b[0m in \u001b[0;36m<module>\u001b[1;34m\u001b[0m\n\u001b[1;32m----> 1\u001b[1;33m \u001b[0mfit\u001b[0m\u001b[1;33m.\u001b[0m\u001b[0mfnPullMolgroup\u001b[0m\u001b[1;33m(\u001b[0m\u001b[1;33m[\u001b[0m\u001b[1;34m'lipid1'\u001b[0m\u001b[1;33m]\u001b[0m\u001b[1;33m,\u001b[0m \u001b[0msparse\u001b[0m\u001b[1;33m=\u001b[0m\u001b[0msparse\u001b[0m\u001b[1;33m)\u001b[0m\u001b[1;33m\u001b[0m\u001b[1;33m\u001b[0m\u001b[0m\n\u001b[0m",
      "\u001b[1;32mg:\\My Drive\\Software\\nr\\molgroups\\PlottingAndAnalysis\\rs.py\u001b[0m in \u001b[0;36mfnPullMolgroup\u001b[1;34m(self, liMolgroupNames, sparse)\u001b[0m\n\u001b[0;32m   2425\u001b[0m         \u001b[0mSaves\u001b[0m \u001b[0mresults\u001b[0m \u001b[0mto\u001b[0m \u001b[0mfile\u001b[0m\u001b[1;33m\u001b[0m\u001b[1;33m\u001b[0m\u001b[0m\n\u001b[0;32m   2426\u001b[0m         \"\"\"\n\u001b[1;32m-> 2427\u001b[1;33m         \u001b[0mdiarea\u001b[0m\u001b[1;33m,\u001b[0m \u001b[0mdinsl\u001b[0m\u001b[1;33m,\u001b[0m \u001b[0mdinsld\u001b[0m \u001b[1;33m=\u001b[0m \u001b[0mself\u001b[0m\u001b[1;33m.\u001b[0m\u001b[0mfnPullMolgroupLoader\u001b[0m\u001b[1;33m(\u001b[0m\u001b[0mliMolgroupNames\u001b[0m\u001b[1;33m,\u001b[0m \u001b[0msparse\u001b[0m\u001b[1;33m)\u001b[0m\u001b[1;33m\u001b[0m\u001b[1;33m\u001b[0m\u001b[0m\n\u001b[0m\u001b[0;32m   2428\u001b[0m         \u001b[0mdiStat\u001b[0m \u001b[1;33m=\u001b[0m \u001b[0mself\u001b[0m\u001b[1;33m.\u001b[0m\u001b[0mfnPullMolgroupWorker\u001b[0m\u001b[1;33m(\u001b[0m\u001b[0mdiarea\u001b[0m\u001b[1;33m,\u001b[0m \u001b[0mdinsl\u001b[0m\u001b[1;33m,\u001b[0m \u001b[0mdinsld\u001b[0m\u001b[1;33m)\u001b[0m\u001b[1;33m\u001b[0m\u001b[1;33m\u001b[0m\u001b[0m\n\u001b[0;32m   2429\u001b[0m \u001b[1;33m\u001b[0m\u001b[0m\n",
      "\u001b[1;32mg:\\My Drive\\Software\\nr\\molgroups\\PlottingAndAnalysis\\rs.py\u001b[0m in \u001b[0;36mfnPullMolgroupLoader\u001b[1;34m(self, liMolgroupNames, sparse)\u001b[0m\n\u001b[0;32m   2449\u001b[0m             \u001b[0mprint\u001b[0m\u001b[1;33m(\u001b[0m\u001b[1;34m'Failure to load StatDataPython.dat.'\u001b[0m\u001b[1;33m)\u001b[0m\u001b[1;33m\u001b[0m\u001b[1;33m\u001b[0m\u001b[0m\n\u001b[0;32m   2450\u001b[0m             \u001b[0mprint\u001b[0m\u001b[1;33m(\u001b[0m\u001b[1;34m'Recreate statistical data from sErr.dat.'\u001b[0m\u001b[1;33m)\u001b[0m\u001b[1;33m\u001b[0m\u001b[1;33m\u001b[0m\u001b[0m\n\u001b[1;32m-> 2451\u001b[1;33m             \u001b[0mself\u001b[0m\u001b[1;33m.\u001b[0m\u001b[0mfnRecreateStatistical\u001b[0m\u001b[1;33m(\u001b[0m\u001b[0msparse\u001b[0m\u001b[1;33m=\u001b[0m\u001b[0msparse\u001b[0m\u001b[1;33m)\u001b[0m\u001b[1;33m\u001b[0m\u001b[1;33m\u001b[0m\u001b[0m\n\u001b[0m\u001b[0;32m   2452\u001b[0m \u001b[1;33m\u001b[0m\u001b[0m\n\u001b[0;32m   2453\u001b[0m         diarea = {\n",
      "\u001b[1;32mg:\\My Drive\\Software\\nr\\molgroups\\PlottingAndAnalysis\\rs.py\u001b[0m in \u001b[0;36mfnRecreateStatistical\u001b[1;34m(self, bRecreateMolgroups, sparse)\u001b[0m\n\u001b[0;32m   2572\u001b[0m \u001b[1;33m\u001b[0m\u001b[0m\n\u001b[0;32m   2573\u001b[0m                     \u001b[0mfp\u001b[0m \u001b[1;33m=\u001b[0m \u001b[0mopen\u001b[0m\u001b[1;33m(\u001b[0m\u001b[0mself\u001b[0m\u001b[1;33m.\u001b[0m\u001b[0mspath\u001b[0m\u001b[1;33m+\u001b[0m\u001b[1;34m'/mol.dat'\u001b[0m\u001b[1;33m,\u001b[0m \u001b[1;34m\"w\"\u001b[0m\u001b[1;33m)\u001b[0m\u001b[1;33m\u001b[0m\u001b[1;33m\u001b[0m\u001b[0m\n\u001b[1;32m-> 2574\u001b[1;33m                     \u001b[0mproblem\u001b[0m\u001b[1;33m.\u001b[0m\u001b[0mextra\u001b[0m\u001b[1;33m.\u001b[0m\u001b[0mfnWritePar2File\u001b[0m\u001b[1;33m(\u001b[0m\u001b[0mfp\u001b[0m\u001b[1;33m,\u001b[0m \u001b[1;34m'bilayer'\u001b[0m\u001b[1;33m,\u001b[0m \u001b[0mproblem\u001b[0m\u001b[1;33m.\u001b[0m\u001b[0mdimension\u001b[0m\u001b[1;33m,\u001b[0m \u001b[0mproblem\u001b[0m\u001b[1;33m.\u001b[0m\u001b[0mstepsize\u001b[0m\u001b[1;33m)\u001b[0m\u001b[1;33m\u001b[0m\u001b[1;33m\u001b[0m\u001b[0m\n\u001b[0m\u001b[0;32m   2575\u001b[0m                     \u001b[0mfp\u001b[0m\u001b[1;33m.\u001b[0m\u001b[0mclose\u001b[0m\u001b[1;33m(\u001b[0m\u001b[1;33m)\u001b[0m\u001b[1;33m\u001b[0m\u001b[1;33m\u001b[0m\u001b[0m\n\u001b[0;32m   2576\u001b[0m                     \u001b[0mstdout\u001b[0m\u001b[1;33m.\u001b[0m\u001b[0mflush\u001b[0m\u001b[1;33m(\u001b[0m\u001b[1;33m)\u001b[0m\u001b[1;33m\u001b[0m\u001b[1;33m\u001b[0m\u001b[0m\n",
      "\u001b[1;32mg:\\My Drive\\Software\\nr\\molgroups\\molgroups.py\u001b[0m in \u001b[0;36mfnWritePar2File\u001b[1;34m(self, fp, cName, dimension, stepsize)\u001b[0m\n\u001b[0;32m   1332\u001b[0m         \u001b[0mself\u001b[0m\u001b[1;33m.\u001b[0m\u001b[0mdefect_hydrocarbon\u001b[0m\u001b[1;33m.\u001b[0m\u001b[0mfnWritePar2File\u001b[0m\u001b[1;33m(\u001b[0m\u001b[0mfp\u001b[0m\u001b[1;33m,\u001b[0m \u001b[1;34m\"blm_defect_hc\"\u001b[0m\u001b[1;33m,\u001b[0m \u001b[0mdimension\u001b[0m\u001b[1;33m,\u001b[0m \u001b[0mstepsize\u001b[0m\u001b[1;33m)\u001b[0m\u001b[1;33m\u001b[0m\u001b[1;33m\u001b[0m\u001b[0m\n\u001b[0;32m   1333\u001b[0m         \u001b[0mself\u001b[0m\u001b[1;33m.\u001b[0m\u001b[0mdefect_headgroup\u001b[0m\u001b[1;33m.\u001b[0m\u001b[0mfnWritePar2File\u001b[0m\u001b[1;33m(\u001b[0m\u001b[0mfp\u001b[0m\u001b[1;33m,\u001b[0m \u001b[1;34m\"blm_defect_hg\"\u001b[0m\u001b[1;33m,\u001b[0m \u001b[0mdimension\u001b[0m\u001b[1;33m,\u001b[0m \u001b[0mstepsize\u001b[0m\u001b[1;33m)\u001b[0m\u001b[1;33m\u001b[0m\u001b[1;33m\u001b[0m\u001b[0m\n\u001b[1;32m-> 1334\u001b[1;33m         \u001b[0mself\u001b[0m\u001b[1;33m.\u001b[0m\u001b[0mfnWriteConstant\u001b[0m\u001b[1;33m(\u001b[0m\u001b[0mfp\u001b[0m\u001b[1;33m,\u001b[0m \u001b[1;34m\"blm_normarea\"\u001b[0m\u001b[1;33m,\u001b[0m \u001b[0mself\u001b[0m\u001b[1;33m.\u001b[0m\u001b[0mnormarea\u001b[0m\u001b[1;33m,\u001b[0m \u001b[1;36m0\u001b[0m\u001b[1;33m,\u001b[0m \u001b[0mdimension\u001b[0m\u001b[1;33m,\u001b[0m \u001b[0mstepsize\u001b[0m\u001b[1;33m)\u001b[0m\u001b[1;33m\u001b[0m\u001b[1;33m\u001b[0m\u001b[0m\n\u001b[0m\u001b[0;32m   1335\u001b[0m \u001b[1;33m\u001b[0m\u001b[0m\n\u001b[0;32m   1336\u001b[0m \u001b[1;31m#------------------------------------------------------------------------------------------------------\u001b[0m\u001b[1;33m\u001b[0m\u001b[1;33m\u001b[0m\u001b[1;33m\u001b[0m\u001b[0m\n",
      "\u001b[1;31mAttributeError\u001b[0m: 'ssBLM_quaternary' object has no attribute 'fnWriteConstant'"
     ]
    }
   ],
   "source": [
    "fit.fnPullMolgroup(['lipid1'], sparse=sparse)"
   ]
  },
  {
   "cell_type": "code",
   "execution_count": 7,
   "id": "696b2cea",
   "metadata": {},
   "outputs": [
    {
     "output_type": "stream",
     "name": "stdout",
     "text": [
      "Initializing ...\nPulling all molgroups ...\n  substrate ...\nFailure to load StatDataPython.dat.\nRecreate statistical data from sErr.dat.\nFound sErr.dat\n\n0.04698014259338379\nProcessing parameter set 0.\n\n"
     ]
    },
    {
     "output_type": "error",
     "ename": "AttributeError",
     "evalue": "'ssBLM_quaternary' object has no attribute 'fnWriteConstant'",
     "traceback": [
      "\u001b[1;31m---------------------------------------------------------------------------\u001b[0m",
      "\u001b[1;31mFileNotFoundError\u001b[0m                         Traceback (most recent call last)",
      "\u001b[1;32mg:\\My Drive\\Software\\nr\\molgroups\\PlottingAndAnalysis\\rs.py\u001b[0m in \u001b[0;36mfnPullMolgroupLoader\u001b[1;34m(self, liMolgroupNames, sparse)\u001b[0m\n\u001b[0;32m   2444\u001b[0m         \u001b[1;32mtry\u001b[0m\u001b[1;33m:\u001b[0m\u001b[1;33m\u001b[0m\u001b[1;33m\u001b[0m\u001b[0m\n\u001b[1;32m-> 2445\u001b[1;33m             \u001b[0mself\u001b[0m\u001b[1;33m.\u001b[0m\u001b[0mdiStatResults\u001b[0m \u001b[1;33m=\u001b[0m \u001b[0mself\u001b[0m\u001b[1;33m.\u001b[0m\u001b[0mfnLoadObject\u001b[0m\u001b[1;33m(\u001b[0m\u001b[0mself\u001b[0m\u001b[1;33m.\u001b[0m\u001b[0mmcmcpath\u001b[0m\u001b[1;33m+\u001b[0m\u001b[1;34m'/StatDataPython.dat'\u001b[0m\u001b[1;33m)\u001b[0m\u001b[1;33m\u001b[0m\u001b[1;33m\u001b[0m\u001b[0m\n\u001b[0m\u001b[0;32m   2446\u001b[0m             \u001b[0mprint\u001b[0m\u001b[1;33m(\u001b[0m\u001b[1;34m'Loaded statistical data from StatDataPython.dat'\u001b[0m\u001b[1;33m)\u001b[0m\u001b[1;33m\u001b[0m\u001b[1;33m\u001b[0m\u001b[0m\n",
      "\u001b[1;32mg:\\My Drive\\Software\\nr\\molgroups\\PlottingAndAnalysis\\rs.py\u001b[0m in \u001b[0;36mfnLoadObject\u001b[1;34m(sFileName)\u001b[0m\n\u001b[0;32m   1869\u001b[0m         \u001b[1;32mimport\u001b[0m \u001b[0mpickle\u001b[0m\u001b[1;33m\u001b[0m\u001b[1;33m\u001b[0m\u001b[0m\n\u001b[1;32m-> 1870\u001b[1;33m         \u001b[0mFile\u001b[0m \u001b[1;33m=\u001b[0m \u001b[0mopen\u001b[0m\u001b[1;33m(\u001b[0m\u001b[0msFileName\u001b[0m\u001b[1;33m,\u001b[0m \u001b[1;34m\"rb\"\u001b[0m\u001b[1;33m)\u001b[0m\u001b[1;33m\u001b[0m\u001b[1;33m\u001b[0m\u001b[0m\n\u001b[0m\u001b[0;32m   1871\u001b[0m         \u001b[0mObject\u001b[0m \u001b[1;33m=\u001b[0m \u001b[0mpickle\u001b[0m\u001b[1;33m.\u001b[0m\u001b[0mload\u001b[0m\u001b[1;33m(\u001b[0m\u001b[0mFile\u001b[0m\u001b[1;33m)\u001b[0m\u001b[1;33m\u001b[0m\u001b[1;33m\u001b[0m\u001b[0m\n",
      "\u001b[1;31mFileNotFoundError\u001b[0m: [Errno 2] No such file or directory: 'G:\\\\Shared drives\\\\molgroups\\\\ssBLM flayer\\\\test3/StatDataPython.dat'",
      "\nDuring handling of the above exception, another exception occurred:\n",
      "\u001b[1;31mAttributeError\u001b[0m                            Traceback (most recent call last)",
      "\u001b[1;32m<ipython-input-7-84e779898e65>\u001b[0m in \u001b[0;36m<module>\u001b[1;34m\u001b[0m\n\u001b[1;32m----> 1\u001b[1;33m \u001b[0mfit\u001b[0m\u001b[1;33m.\u001b[0m\u001b[0mfnCreateBilayerPlotData\u001b[0m\u001b[1;33m(\u001b[0m\u001b[1;33m)\u001b[0m\u001b[1;33m\u001b[0m\u001b[1;33m\u001b[0m\u001b[0m\n\u001b[0m",
      "\u001b[1;32mg:\\My Drive\\Software\\nr\\molgroups\\PlottingAndAnalysis\\rs.py\u001b[0m in \u001b[0;36mfnCreateBilayerPlotData\u001b[1;34m(self)\u001b[0m\n\u001b[0;32m   1623\u001b[0m         \u001b[0mprint\u001b[0m\u001b[1;33m(\u001b[0m\u001b[1;34m'Pulling all molgroups ...'\u001b[0m\u001b[1;33m)\u001b[0m\u001b[1;33m\u001b[0m\u001b[1;33m\u001b[0m\u001b[0m\n\u001b[0;32m   1624\u001b[0m         \u001b[0mprint\u001b[0m\u001b[1;33m(\u001b[0m\u001b[1;34m'  substrate ...'\u001b[0m\u001b[1;33m)\u001b[0m\u001b[1;33m\u001b[0m\u001b[1;33m\u001b[0m\u001b[0m\n\u001b[1;32m-> 1625\u001b[1;33m         \u001b[0mdiIterations\u001b[0m\u001b[1;33m[\u001b[0m\u001b[1;34m'substrate'\u001b[0m\u001b[1;33m]\u001b[0m\u001b[1;33m,\u001b[0m \u001b[0m__\u001b[0m\u001b[1;33m,\u001b[0m \u001b[0m__\u001b[0m \u001b[1;33m=\u001b[0m \u001b[0mself\u001b[0m\u001b[1;33m.\u001b[0m\u001b[0mfnPullMolgroupLoader\u001b[0m\u001b[1;33m(\u001b[0m\u001b[1;33m[\u001b[0m\u001b[1;34m'substrate'\u001b[0m\u001b[1;33m]\u001b[0m\u001b[1;33m)\u001b[0m\u001b[1;33m\u001b[0m\u001b[1;33m\u001b[0m\u001b[0m\n\u001b[0m\u001b[0;32m   1626\u001b[0m         \u001b[0mprint\u001b[0m\u001b[1;33m(\u001b[0m\u001b[1;34m'  siox ...'\u001b[0m\u001b[1;33m)\u001b[0m\u001b[1;33m\u001b[0m\u001b[1;33m\u001b[0m\u001b[0m\n\u001b[0;32m   1627\u001b[0m         \u001b[0mdiIterations\u001b[0m\u001b[1;33m[\u001b[0m\u001b[1;34m'siox'\u001b[0m\u001b[1;33m]\u001b[0m\u001b[1;33m,\u001b[0m \u001b[0m__\u001b[0m\u001b[1;33m,\u001b[0m \u001b[0m__\u001b[0m \u001b[1;33m=\u001b[0m \u001b[0mself\u001b[0m\u001b[1;33m.\u001b[0m\u001b[0mfnPullMolgroupLoader\u001b[0m\u001b[1;33m(\u001b[0m\u001b[1;33m[\u001b[0m\u001b[1;34m'siox'\u001b[0m\u001b[1;33m]\u001b[0m\u001b[1;33m)\u001b[0m\u001b[1;33m\u001b[0m\u001b[1;33m\u001b[0m\u001b[0m\n",
      "\u001b[1;32mg:\\My Drive\\Software\\nr\\molgroups\\PlottingAndAnalysis\\rs.py\u001b[0m in \u001b[0;36mfnPullMolgroupLoader\u001b[1;34m(self, liMolgroupNames, sparse)\u001b[0m\n\u001b[0;32m   2449\u001b[0m             \u001b[0mprint\u001b[0m\u001b[1;33m(\u001b[0m\u001b[1;34m'Failure to load StatDataPython.dat.'\u001b[0m\u001b[1;33m)\u001b[0m\u001b[1;33m\u001b[0m\u001b[1;33m\u001b[0m\u001b[0m\n\u001b[0;32m   2450\u001b[0m             \u001b[0mprint\u001b[0m\u001b[1;33m(\u001b[0m\u001b[1;34m'Recreate statistical data from sErr.dat.'\u001b[0m\u001b[1;33m)\u001b[0m\u001b[1;33m\u001b[0m\u001b[1;33m\u001b[0m\u001b[0m\n\u001b[1;32m-> 2451\u001b[1;33m             \u001b[0mself\u001b[0m\u001b[1;33m.\u001b[0m\u001b[0mfnRecreateStatistical\u001b[0m\u001b[1;33m(\u001b[0m\u001b[0msparse\u001b[0m\u001b[1;33m=\u001b[0m\u001b[0msparse\u001b[0m\u001b[1;33m)\u001b[0m\u001b[1;33m\u001b[0m\u001b[1;33m\u001b[0m\u001b[0m\n\u001b[0m\u001b[0;32m   2452\u001b[0m \u001b[1;33m\u001b[0m\u001b[0m\n\u001b[0;32m   2453\u001b[0m         diarea = {\n",
      "\u001b[1;32mg:\\My Drive\\Software\\nr\\molgroups\\PlottingAndAnalysis\\rs.py\u001b[0m in \u001b[0;36mfnRecreateStatistical\u001b[1;34m(self, bRecreateMolgroups, sparse)\u001b[0m\n\u001b[0;32m   2572\u001b[0m \u001b[1;33m\u001b[0m\u001b[0m\n\u001b[0;32m   2573\u001b[0m                     \u001b[0mfp\u001b[0m \u001b[1;33m=\u001b[0m \u001b[0mopen\u001b[0m\u001b[1;33m(\u001b[0m\u001b[0mself\u001b[0m\u001b[1;33m.\u001b[0m\u001b[0mspath\u001b[0m\u001b[1;33m+\u001b[0m\u001b[1;34m'/mol.dat'\u001b[0m\u001b[1;33m,\u001b[0m \u001b[1;34m\"w\"\u001b[0m\u001b[1;33m)\u001b[0m\u001b[1;33m\u001b[0m\u001b[1;33m\u001b[0m\u001b[0m\n\u001b[1;32m-> 2574\u001b[1;33m                     \u001b[0mproblem\u001b[0m\u001b[1;33m.\u001b[0m\u001b[0mextra\u001b[0m\u001b[1;33m.\u001b[0m\u001b[0mfnWritePar2File\u001b[0m\u001b[1;33m(\u001b[0m\u001b[0mfp\u001b[0m\u001b[1;33m,\u001b[0m \u001b[1;34m'bilayer'\u001b[0m\u001b[1;33m,\u001b[0m \u001b[0mproblem\u001b[0m\u001b[1;33m.\u001b[0m\u001b[0mdimension\u001b[0m\u001b[1;33m,\u001b[0m \u001b[0mproblem\u001b[0m\u001b[1;33m.\u001b[0m\u001b[0mstepsize\u001b[0m\u001b[1;33m)\u001b[0m\u001b[1;33m\u001b[0m\u001b[1;33m\u001b[0m\u001b[0m\n\u001b[0m\u001b[0;32m   2575\u001b[0m                     \u001b[0mfp\u001b[0m\u001b[1;33m.\u001b[0m\u001b[0mclose\u001b[0m\u001b[1;33m(\u001b[0m\u001b[1;33m)\u001b[0m\u001b[1;33m\u001b[0m\u001b[1;33m\u001b[0m\u001b[0m\n\u001b[0;32m   2576\u001b[0m                     \u001b[0mstdout\u001b[0m\u001b[1;33m.\u001b[0m\u001b[0mflush\u001b[0m\u001b[1;33m(\u001b[0m\u001b[1;33m)\u001b[0m\u001b[1;33m\u001b[0m\u001b[1;33m\u001b[0m\u001b[0m\n",
      "\u001b[1;32mg:\\My Drive\\Software\\nr\\molgroups\\molgroups.py\u001b[0m in \u001b[0;36mfnWritePar2File\u001b[1;34m(self, fp, cName, dimension, stepsize)\u001b[0m\n\u001b[0;32m   1332\u001b[0m         \u001b[0mself\u001b[0m\u001b[1;33m.\u001b[0m\u001b[0mdefect_hydrocarbon\u001b[0m\u001b[1;33m.\u001b[0m\u001b[0mfnWritePar2File\u001b[0m\u001b[1;33m(\u001b[0m\u001b[0mfp\u001b[0m\u001b[1;33m,\u001b[0m \u001b[1;34m\"blm_defect_hc\"\u001b[0m\u001b[1;33m,\u001b[0m \u001b[0mdimension\u001b[0m\u001b[1;33m,\u001b[0m \u001b[0mstepsize\u001b[0m\u001b[1;33m)\u001b[0m\u001b[1;33m\u001b[0m\u001b[1;33m\u001b[0m\u001b[0m\n\u001b[0;32m   1333\u001b[0m         \u001b[0mself\u001b[0m\u001b[1;33m.\u001b[0m\u001b[0mdefect_headgroup\u001b[0m\u001b[1;33m.\u001b[0m\u001b[0mfnWritePar2File\u001b[0m\u001b[1;33m(\u001b[0m\u001b[0mfp\u001b[0m\u001b[1;33m,\u001b[0m \u001b[1;34m\"blm_defect_hg\"\u001b[0m\u001b[1;33m,\u001b[0m \u001b[0mdimension\u001b[0m\u001b[1;33m,\u001b[0m \u001b[0mstepsize\u001b[0m\u001b[1;33m)\u001b[0m\u001b[1;33m\u001b[0m\u001b[1;33m\u001b[0m\u001b[0m\n\u001b[1;32m-> 1334\u001b[1;33m         \u001b[0mself\u001b[0m\u001b[1;33m.\u001b[0m\u001b[0mfnWriteConstant\u001b[0m\u001b[1;33m(\u001b[0m\u001b[0mfp\u001b[0m\u001b[1;33m,\u001b[0m \u001b[1;34m\"blm_normarea\"\u001b[0m\u001b[1;33m,\u001b[0m \u001b[0mself\u001b[0m\u001b[1;33m.\u001b[0m\u001b[0mnormarea\u001b[0m\u001b[1;33m,\u001b[0m \u001b[1;36m0\u001b[0m\u001b[1;33m,\u001b[0m \u001b[0mdimension\u001b[0m\u001b[1;33m,\u001b[0m \u001b[0mstepsize\u001b[0m\u001b[1;33m)\u001b[0m\u001b[1;33m\u001b[0m\u001b[1;33m\u001b[0m\u001b[0m\n\u001b[0m\u001b[0;32m   1335\u001b[0m \u001b[1;33m\u001b[0m\u001b[0m\n\u001b[0;32m   1336\u001b[0m \u001b[1;31m#------------------------------------------------------------------------------------------------------\u001b[0m\u001b[1;33m\u001b[0m\u001b[1;33m\u001b[0m\u001b[1;33m\u001b[0m\u001b[0m\n",
      "\u001b[1;31mAttributeError\u001b[0m: 'ssBLM_quaternary' object has no attribute 'fnWriteConstant'"
     ]
    }
   ],
   "source": [
    "fit.fnCreateBilayerPlotData()"
   ]
  },
  {
   "cell_type": "code",
   "execution_count": 6,
   "id": "26436538",
   "metadata": {},
   "outputs": [
    {
     "name": "stdout",
     "output_type": "stream",
     "text": [
      "Loaded statistical data from StatDataPython.dat\n",
      "Did not find any fractional envelopes ...\n",
      "WaterFracHeadgroup1  [    0.6801,       0.72,     0.7618] (-   0.03981, +   0.04189)\n",
      "WaterFracHeadgroup2  [    0.6656,     0.7043,     0.7532] (-   0.03871, +   0.04892)\n",
      "WaterFracHydrocarbon  [    0.2618,     0.3303,     0.4125] (-   0.06851, +   0.08221)\n",
      "WaterFracLipid1  [    0.2666,     0.3354,     0.4139] (-   0.06876, +   0.07855)\n",
      "WaterFracLipid2  [    0.2591,     0.3249,     0.4158] (-    0.0658, +   0.09093)\n",
      "WaterFracSubMembrane  [    0.9918,      0.996,     0.9975] (-  0.004201, +  0.001446)\n",
      "defect_hc_AVG  [    0.3806,     0.6047,     0.9604] (-    0.2241, +    0.3556)\n",
      "defect_hc_COM  [      68.9,      69.47,      70.32] (-    0.5751, +    0.8533)\n",
      "defect_hc_INT  [    0.5925,     0.9124,      1.463] (-      0.32, +    0.5508)\n",
      "defect_hg_AVG  [     0.121,     0.1571,     0.2143] (-   0.03605, +   0.05724)\n",
      "defect_hg_COM  [      68.9,      69.47,      70.32] (-    0.5751, +    0.8533)\n",
      "defect_hg_INT  [    0.1863,     0.2529,      0.336] (-   0.06661, +   0.08316)\n",
      "fAreaPerLipid2  [     88.39,      96.08,       99.9] (-     7.697, +     3.819)\n",
      "fTotalLipid1Length  [     9.303,       10.1,      11.79] (-    0.7982, +     1.694)\n",
      "fTotalLipid2Length  [     9.259,      9.627,      10.47] (-     0.368, +    0.8384)\n",
      "headgroup1_2_AVG  [         0,          0,          0] (-         0, +         0)\n",
      "headgroup1_2_COM  [     1e+05,      1e+05,      1e+05] (-         0, +         0)\n",
      "headgroup1_2_INT  [         0,          0,          0] (-         0, +         0)\n",
      "headgroup1_3_AVG  [         0,          0,          0] (-         0, +         0)\n",
      "headgroup1_3_COM  [     1e+05,      1e+05,      1e+05] (-         0, +         0)\n",
      "headgroup1_3_INT  [         0,          0,          0] (-         0, +         0)\n",
      "headgroup1_AVG  [     1.251,      1.494,      1.786] (-    0.2436, +    0.2916)\n",
      "headgroup1_COM  [     55.37,      55.37,      55.37] (- 7.105e-15, +         0)\n",
      "headgroup1_INT  [     1.997,       2.32,      2.734] (-    0.3238, +    0.4137)\n",
      "headgroup2_2_AVG  [         0,          0,          0] (-         0, +         0)\n",
      "headgroup2_2_COM  [     1e+05,      1e+05,      1e+05] (-         0, +         0)\n",
      "headgroup2_2_INT  [         0,          0,          0] (-         0, +         0)\n",
      "headgroup2_3_AVG  [         0,          0,          0] (-         0, +         0)\n",
      "headgroup2_3_COM  [     1e+05,      1e+05,      1e+05] (-         0, +         0)\n",
      "headgroup2_3_INT  [         0,          0,          0] (-         0, +         0)\n",
      "headgroup2_AVG  [     1.183,      1.441,      1.657] (-    0.2575, +    0.2161)\n",
      "headgroup2_COM  [     82.42,      83.57,      85.28] (-      1.15, +     1.707)\n",
      "headgroup2_INT  [     1.854,      2.345,      2.592] (-    0.4904, +    0.2471)\n",
      "lipid1_AVG  [     3.219,      3.846,      4.597] (-     0.627, +    0.7504)\n",
      "lipid1_COM  [     64.61,      65.03,      65.68] (-    0.4104, +    0.6562)\n",
      "lipid1_INT  [     5.139,      5.972,      7.037] (-    0.8333, +     1.065)\n",
      "lipid2_AVG  [     3.045,      3.708,      4.264] (-    0.6627, +    0.5562)\n",
      "lipid2_COM  [     72.96,      74.21,      75.61] (-     1.243, +     1.403)\n",
      "lipid2_INT  [     4.772,      6.034,       6.67] (-     1.262, +    0.6361)\n",
      "methyl1_AVG  [     0.385,       0.46,     0.5497] (-   0.07498, +   0.08974)\n",
      "methyl1_COM  [     68.31,      69.06,      70.66] (-    0.7556, +     1.603)\n",
      "methyl1_INT  [    0.6145,     0.7142,     0.8415] (-   0.09965, +    0.1273)\n",
      "methyl2_AVG  [    0.3641,     0.4434,     0.5099] (-   0.07925, +   0.06651)\n",
      "methyl2_COM  [     69.35,      70.09,      71.79] (-    0.7377, +     1.704)\n",
      "methyl2_INT  [    0.5707,     0.7216,     0.7977] (-    0.1509, +   0.07606)\n",
      "normarea_AVG  [     88.39,      96.08,       99.9] (-     7.697, +     3.819)\n",
      "normarea_COM  [     74.75,      74.75,      74.75] (-         0, + 1.421e-14)\n",
      "normarea_INT  [       150,        150,        150] (- 6.537e-13, + 6.821e-13)\n",
      "siox_AVG  [         0,          0,          0] (-         0, +         0)\n",
      "siox_COM  [     1e+05,      1e+05,      1e+05] (-         0, +         0)\n",
      "siox_INT  [         0,          0,          0] (-         0, +         0)\n",
      "substrate_AVG  [     11.93,      12.97,      13.49] (-      1.04, +    0.5147)\n",
      "substrate_COM  [     10.14,      10.63,      11.27] (-    0.4892, +    0.6404)\n",
      "substrate_INT  [     20.25,      20.25,      20.25] (-  0.002306, +  0.001212)\n"
     ]
    }
   ],
   "source": [
    "fit.fnCalculateMolgroupProperty(fConfidence=-1)"
   ]
  },
  {
   "cell_type": "code",
   "execution_count": null,
   "id": "5424311e",
   "metadata": {},
   "outputs": [],
   "source": []
  }
 ],
 "metadata": {
  "kernelspec": {
   "name": "python3",
   "display_name": "Python 3.7.7 64-bit ('refl1d3': conda)"
  },
  "language_info": {
   "codemirror_mode": {
    "name": "ipython",
    "version": 3
   },
   "file_extension": ".py",
   "mimetype": "text/x-python",
   "name": "python",
   "nbconvert_exporter": "python",
   "pygments_lexer": "ipython3",
   "version": "3.7.7"
  },
  "interpreter": {
   "hash": "e8e83515eecba71adf1b85691047a345bdca5a6733988c7550d3915842ce0938"
  }
 },
 "nbformat": 4,
 "nbformat_minor": 5
}